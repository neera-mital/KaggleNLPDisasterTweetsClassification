{
  "nbformat": 4,
  "nbformat_minor": 0,
  "metadata": {
    "colab": {
      "name": "kaggle-nlp-101.ipynb",
      "provenance": [],
      "collapsed_sections": [],
      "authorship_tag": "ABX9TyO16+7zBPxtFawcb4XWtYcO",
      "include_colab_link": true
    },
    "kernelspec": {
      "name": "python3",
      "display_name": "Python 3"
    },
    "accelerator": "GPU",
    "widgets": {
      "application/vnd.jupyter.widget-state+json": {
        "0c725e2de87d4e7f955845ff8332709e": {
          "model_module": "@jupyter-widgets/controls",
          "model_name": "HBoxModel",
          "state": {
            "_view_name": "HBoxView",
            "_dom_classes": [],
            "_model_name": "HBoxModel",
            "_view_module": "@jupyter-widgets/controls",
            "_model_module_version": "1.5.0",
            "_view_count": null,
            "_view_module_version": "1.5.0",
            "box_style": "",
            "layout": "IPY_MODEL_7712d65666d34e0bbf395ba11d9c3dc1",
            "_model_module": "@jupyter-widgets/controls",
            "children": [
              "IPY_MODEL_54961c5ffd164ca9a3a0e86c94dee5c2",
              "IPY_MODEL_2666c9ff26574ca9af286e340a7ab59e"
            ]
          }
        },
        "7712d65666d34e0bbf395ba11d9c3dc1": {
          "model_module": "@jupyter-widgets/base",
          "model_name": "LayoutModel",
          "state": {
            "_view_name": "LayoutView",
            "grid_template_rows": null,
            "right": null,
            "justify_content": null,
            "_view_module": "@jupyter-widgets/base",
            "overflow": null,
            "_model_module_version": "1.2.0",
            "_view_count": null,
            "flex_flow": null,
            "width": null,
            "min_width": null,
            "border": null,
            "align_items": null,
            "bottom": null,
            "_model_module": "@jupyter-widgets/base",
            "top": null,
            "grid_column": null,
            "overflow_y": null,
            "overflow_x": null,
            "grid_auto_flow": null,
            "grid_area": null,
            "grid_template_columns": null,
            "flex": null,
            "_model_name": "LayoutModel",
            "justify_items": null,
            "grid_row": null,
            "max_height": null,
            "align_content": null,
            "visibility": null,
            "align_self": null,
            "height": null,
            "min_height": null,
            "padding": null,
            "grid_auto_rows": null,
            "grid_gap": null,
            "max_width": null,
            "order": null,
            "_view_module_version": "1.2.0",
            "grid_template_areas": null,
            "object_position": null,
            "object_fit": null,
            "grid_auto_columns": null,
            "margin": null,
            "display": null,
            "left": null
          }
        },
        "54961c5ffd164ca9a3a0e86c94dee5c2": {
          "model_module": "@jupyter-widgets/controls",
          "model_name": "FloatProgressModel",
          "state": {
            "_view_name": "ProgressView",
            "style": "IPY_MODEL_76c6430fb3fd460ca03bc2590e1233f1",
            "_dom_classes": [],
            "description": "Downloading: 100%",
            "_model_name": "FloatProgressModel",
            "bar_style": "success",
            "max": 213450,
            "_view_module": "@jupyter-widgets/controls",
            "_model_module_version": "1.5.0",
            "value": 213450,
            "_view_count": null,
            "_view_module_version": "1.5.0",
            "orientation": "horizontal",
            "min": 0,
            "description_tooltip": null,
            "_model_module": "@jupyter-widgets/controls",
            "layout": "IPY_MODEL_94825f38c0bd48afbb11bf18e61983df"
          }
        },
        "2666c9ff26574ca9af286e340a7ab59e": {
          "model_module": "@jupyter-widgets/controls",
          "model_name": "HTMLModel",
          "state": {
            "_view_name": "HTMLView",
            "style": "IPY_MODEL_0bd82bfbba204521baca2d90de389b79",
            "_dom_classes": [],
            "description": "",
            "_model_name": "HTMLModel",
            "placeholder": "​",
            "_view_module": "@jupyter-widgets/controls",
            "_model_module_version": "1.5.0",
            "value": " 213k/213k [00:00&lt;00:00, 3.20MB/s]",
            "_view_count": null,
            "_view_module_version": "1.5.0",
            "description_tooltip": null,
            "_model_module": "@jupyter-widgets/controls",
            "layout": "IPY_MODEL_986f47ba39ca4c49b93d1963652cb807"
          }
        },
        "76c6430fb3fd460ca03bc2590e1233f1": {
          "model_module": "@jupyter-widgets/controls",
          "model_name": "ProgressStyleModel",
          "state": {
            "_view_name": "StyleView",
            "_model_name": "ProgressStyleModel",
            "description_width": "initial",
            "_view_module": "@jupyter-widgets/base",
            "_model_module_version": "1.5.0",
            "_view_count": null,
            "_view_module_version": "1.2.0",
            "bar_color": null,
            "_model_module": "@jupyter-widgets/controls"
          }
        },
        "94825f38c0bd48afbb11bf18e61983df": {
          "model_module": "@jupyter-widgets/base",
          "model_name": "LayoutModel",
          "state": {
            "_view_name": "LayoutView",
            "grid_template_rows": null,
            "right": null,
            "justify_content": null,
            "_view_module": "@jupyter-widgets/base",
            "overflow": null,
            "_model_module_version": "1.2.0",
            "_view_count": null,
            "flex_flow": null,
            "width": null,
            "min_width": null,
            "border": null,
            "align_items": null,
            "bottom": null,
            "_model_module": "@jupyter-widgets/base",
            "top": null,
            "grid_column": null,
            "overflow_y": null,
            "overflow_x": null,
            "grid_auto_flow": null,
            "grid_area": null,
            "grid_template_columns": null,
            "flex": null,
            "_model_name": "LayoutModel",
            "justify_items": null,
            "grid_row": null,
            "max_height": null,
            "align_content": null,
            "visibility": null,
            "align_self": null,
            "height": null,
            "min_height": null,
            "padding": null,
            "grid_auto_rows": null,
            "grid_gap": null,
            "max_width": null,
            "order": null,
            "_view_module_version": "1.2.0",
            "grid_template_areas": null,
            "object_position": null,
            "object_fit": null,
            "grid_auto_columns": null,
            "margin": null,
            "display": null,
            "left": null
          }
        },
        "0bd82bfbba204521baca2d90de389b79": {
          "model_module": "@jupyter-widgets/controls",
          "model_name": "DescriptionStyleModel",
          "state": {
            "_view_name": "StyleView",
            "_model_name": "DescriptionStyleModel",
            "description_width": "",
            "_view_module": "@jupyter-widgets/base",
            "_model_module_version": "1.5.0",
            "_view_count": null,
            "_view_module_version": "1.2.0",
            "_model_module": "@jupyter-widgets/controls"
          }
        },
        "986f47ba39ca4c49b93d1963652cb807": {
          "model_module": "@jupyter-widgets/base",
          "model_name": "LayoutModel",
          "state": {
            "_view_name": "LayoutView",
            "grid_template_rows": null,
            "right": null,
            "justify_content": null,
            "_view_module": "@jupyter-widgets/base",
            "overflow": null,
            "_model_module_version": "1.2.0",
            "_view_count": null,
            "flex_flow": null,
            "width": null,
            "min_width": null,
            "border": null,
            "align_items": null,
            "bottom": null,
            "_model_module": "@jupyter-widgets/base",
            "top": null,
            "grid_column": null,
            "overflow_y": null,
            "overflow_x": null,
            "grid_auto_flow": null,
            "grid_area": null,
            "grid_template_columns": null,
            "flex": null,
            "_model_name": "LayoutModel",
            "justify_items": null,
            "grid_row": null,
            "max_height": null,
            "align_content": null,
            "visibility": null,
            "align_self": null,
            "height": null,
            "min_height": null,
            "padding": null,
            "grid_auto_rows": null,
            "grid_gap": null,
            "max_width": null,
            "order": null,
            "_view_module_version": "1.2.0",
            "grid_template_areas": null,
            "object_position": null,
            "object_fit": null,
            "grid_auto_columns": null,
            "margin": null,
            "display": null,
            "left": null
          }
        },
        "2581934f3da042d6a37fb7ebe5260f09": {
          "model_module": "@jupyter-widgets/controls",
          "model_name": "HBoxModel",
          "state": {
            "_view_name": "HBoxView",
            "_dom_classes": [],
            "_model_name": "HBoxModel",
            "_view_module": "@jupyter-widgets/controls",
            "_model_module_version": "1.5.0",
            "_view_count": null,
            "_view_module_version": "1.5.0",
            "box_style": "",
            "layout": "IPY_MODEL_4a0ea441f3bc4cfa8fde0fb28471fb1b",
            "_model_module": "@jupyter-widgets/controls",
            "children": [
              "IPY_MODEL_8205079713d2446ea17580ea310da57a",
              "IPY_MODEL_492576178cfc4d2ab6dbd60465e1b08d"
            ]
          }
        },
        "4a0ea441f3bc4cfa8fde0fb28471fb1b": {
          "model_module": "@jupyter-widgets/base",
          "model_name": "LayoutModel",
          "state": {
            "_view_name": "LayoutView",
            "grid_template_rows": null,
            "right": null,
            "justify_content": null,
            "_view_module": "@jupyter-widgets/base",
            "overflow": null,
            "_model_module_version": "1.2.0",
            "_view_count": null,
            "flex_flow": null,
            "width": null,
            "min_width": null,
            "border": null,
            "align_items": null,
            "bottom": null,
            "_model_module": "@jupyter-widgets/base",
            "top": null,
            "grid_column": null,
            "overflow_y": null,
            "overflow_x": null,
            "grid_auto_flow": null,
            "grid_area": null,
            "grid_template_columns": null,
            "flex": null,
            "_model_name": "LayoutModel",
            "justify_items": null,
            "grid_row": null,
            "max_height": null,
            "align_content": null,
            "visibility": null,
            "align_self": null,
            "height": null,
            "min_height": null,
            "padding": null,
            "grid_auto_rows": null,
            "grid_gap": null,
            "max_width": null,
            "order": null,
            "_view_module_version": "1.2.0",
            "grid_template_areas": null,
            "object_position": null,
            "object_fit": null,
            "grid_auto_columns": null,
            "margin": null,
            "display": null,
            "left": null
          }
        },
        "8205079713d2446ea17580ea310da57a": {
          "model_module": "@jupyter-widgets/controls",
          "model_name": "FloatProgressModel",
          "state": {
            "_view_name": "ProgressView",
            "style": "IPY_MODEL_9a25ab29129f49619d73bb24230dac1b",
            "_dom_classes": [],
            "description": "Downloading: 100%",
            "_model_name": "FloatProgressModel",
            "bar_style": "success",
            "max": 433,
            "_view_module": "@jupyter-widgets/controls",
            "_model_module_version": "1.5.0",
            "value": 433,
            "_view_count": null,
            "_view_module_version": "1.5.0",
            "orientation": "horizontal",
            "min": 0,
            "description_tooltip": null,
            "_model_module": "@jupyter-widgets/controls",
            "layout": "IPY_MODEL_f344b733c34849ddb01a2cfac5a92388"
          }
        },
        "492576178cfc4d2ab6dbd60465e1b08d": {
          "model_module": "@jupyter-widgets/controls",
          "model_name": "HTMLModel",
          "state": {
            "_view_name": "HTMLView",
            "style": "IPY_MODEL_1bf20fbdfbab48e3ac3343ac49d7c210",
            "_dom_classes": [],
            "description": "",
            "_model_name": "HTMLModel",
            "placeholder": "​",
            "_view_module": "@jupyter-widgets/controls",
            "_model_module_version": "1.5.0",
            "value": " 433/433 [00:11&lt;00:00, 37.0B/s]",
            "_view_count": null,
            "_view_module_version": "1.5.0",
            "description_tooltip": null,
            "_model_module": "@jupyter-widgets/controls",
            "layout": "IPY_MODEL_3355972b65eb448fb507c47c2145d45b"
          }
        },
        "9a25ab29129f49619d73bb24230dac1b": {
          "model_module": "@jupyter-widgets/controls",
          "model_name": "ProgressStyleModel",
          "state": {
            "_view_name": "StyleView",
            "_model_name": "ProgressStyleModel",
            "description_width": "initial",
            "_view_module": "@jupyter-widgets/base",
            "_model_module_version": "1.5.0",
            "_view_count": null,
            "_view_module_version": "1.2.0",
            "bar_color": null,
            "_model_module": "@jupyter-widgets/controls"
          }
        },
        "f344b733c34849ddb01a2cfac5a92388": {
          "model_module": "@jupyter-widgets/base",
          "model_name": "LayoutModel",
          "state": {
            "_view_name": "LayoutView",
            "grid_template_rows": null,
            "right": null,
            "justify_content": null,
            "_view_module": "@jupyter-widgets/base",
            "overflow": null,
            "_model_module_version": "1.2.0",
            "_view_count": null,
            "flex_flow": null,
            "width": null,
            "min_width": null,
            "border": null,
            "align_items": null,
            "bottom": null,
            "_model_module": "@jupyter-widgets/base",
            "top": null,
            "grid_column": null,
            "overflow_y": null,
            "overflow_x": null,
            "grid_auto_flow": null,
            "grid_area": null,
            "grid_template_columns": null,
            "flex": null,
            "_model_name": "LayoutModel",
            "justify_items": null,
            "grid_row": null,
            "max_height": null,
            "align_content": null,
            "visibility": null,
            "align_self": null,
            "height": null,
            "min_height": null,
            "padding": null,
            "grid_auto_rows": null,
            "grid_gap": null,
            "max_width": null,
            "order": null,
            "_view_module_version": "1.2.0",
            "grid_template_areas": null,
            "object_position": null,
            "object_fit": null,
            "grid_auto_columns": null,
            "margin": null,
            "display": null,
            "left": null
          }
        },
        "1bf20fbdfbab48e3ac3343ac49d7c210": {
          "model_module": "@jupyter-widgets/controls",
          "model_name": "DescriptionStyleModel",
          "state": {
            "_view_name": "StyleView",
            "_model_name": "DescriptionStyleModel",
            "description_width": "",
            "_view_module": "@jupyter-widgets/base",
            "_model_module_version": "1.5.0",
            "_view_count": null,
            "_view_module_version": "1.2.0",
            "_model_module": "@jupyter-widgets/controls"
          }
        },
        "3355972b65eb448fb507c47c2145d45b": {
          "model_module": "@jupyter-widgets/base",
          "model_name": "LayoutModel",
          "state": {
            "_view_name": "LayoutView",
            "grid_template_rows": null,
            "right": null,
            "justify_content": null,
            "_view_module": "@jupyter-widgets/base",
            "overflow": null,
            "_model_module_version": "1.2.0",
            "_view_count": null,
            "flex_flow": null,
            "width": null,
            "min_width": null,
            "border": null,
            "align_items": null,
            "bottom": null,
            "_model_module": "@jupyter-widgets/base",
            "top": null,
            "grid_column": null,
            "overflow_y": null,
            "overflow_x": null,
            "grid_auto_flow": null,
            "grid_area": null,
            "grid_template_columns": null,
            "flex": null,
            "_model_name": "LayoutModel",
            "justify_items": null,
            "grid_row": null,
            "max_height": null,
            "align_content": null,
            "visibility": null,
            "align_self": null,
            "height": null,
            "min_height": null,
            "padding": null,
            "grid_auto_rows": null,
            "grid_gap": null,
            "max_width": null,
            "order": null,
            "_view_module_version": "1.2.0",
            "grid_template_areas": null,
            "object_position": null,
            "object_fit": null,
            "grid_auto_columns": null,
            "margin": null,
            "display": null,
            "left": null
          }
        },
        "917857220a754c6182e9625641919ad8": {
          "model_module": "@jupyter-widgets/controls",
          "model_name": "HBoxModel",
          "state": {
            "_view_name": "HBoxView",
            "_dom_classes": [],
            "_model_name": "HBoxModel",
            "_view_module": "@jupyter-widgets/controls",
            "_model_module_version": "1.5.0",
            "_view_count": null,
            "_view_module_version": "1.5.0",
            "box_style": "",
            "layout": "IPY_MODEL_f2520627d84e4ea89eef69818fd46a7d",
            "_model_module": "@jupyter-widgets/controls",
            "children": [
              "IPY_MODEL_9b863351a78c452080fb86c03c173ff3",
              "IPY_MODEL_124f7d15df18441093c1efe6a5d26669"
            ]
          }
        },
        "f2520627d84e4ea89eef69818fd46a7d": {
          "model_module": "@jupyter-widgets/base",
          "model_name": "LayoutModel",
          "state": {
            "_view_name": "LayoutView",
            "grid_template_rows": null,
            "right": null,
            "justify_content": null,
            "_view_module": "@jupyter-widgets/base",
            "overflow": null,
            "_model_module_version": "1.2.0",
            "_view_count": null,
            "flex_flow": null,
            "width": null,
            "min_width": null,
            "border": null,
            "align_items": null,
            "bottom": null,
            "_model_module": "@jupyter-widgets/base",
            "top": null,
            "grid_column": null,
            "overflow_y": null,
            "overflow_x": null,
            "grid_auto_flow": null,
            "grid_area": null,
            "grid_template_columns": null,
            "flex": null,
            "_model_name": "LayoutModel",
            "justify_items": null,
            "grid_row": null,
            "max_height": null,
            "align_content": null,
            "visibility": null,
            "align_self": null,
            "height": null,
            "min_height": null,
            "padding": null,
            "grid_auto_rows": null,
            "grid_gap": null,
            "max_width": null,
            "order": null,
            "_view_module_version": "1.2.0",
            "grid_template_areas": null,
            "object_position": null,
            "object_fit": null,
            "grid_auto_columns": null,
            "margin": null,
            "display": null,
            "left": null
          }
        },
        "9b863351a78c452080fb86c03c173ff3": {
          "model_module": "@jupyter-widgets/controls",
          "model_name": "FloatProgressModel",
          "state": {
            "_view_name": "ProgressView",
            "style": "IPY_MODEL_6c042a4b816d46e8bfb6528c428b5902",
            "_dom_classes": [],
            "description": "Downloading: 100%",
            "_model_name": "FloatProgressModel",
            "bar_style": "success",
            "max": 435779157,
            "_view_module": "@jupyter-widgets/controls",
            "_model_module_version": "1.5.0",
            "value": 435779157,
            "_view_count": null,
            "_view_module_version": "1.5.0",
            "orientation": "horizontal",
            "min": 0,
            "description_tooltip": null,
            "_model_module": "@jupyter-widgets/controls",
            "layout": "IPY_MODEL_3fdb2ae3d94540de92790e639bffd17b"
          }
        },
        "124f7d15df18441093c1efe6a5d26669": {
          "model_module": "@jupyter-widgets/controls",
          "model_name": "HTMLModel",
          "state": {
            "_view_name": "HTMLView",
            "style": "IPY_MODEL_e350fbad4ca7400bbdd26ed31e1be4b2",
            "_dom_classes": [],
            "description": "",
            "_model_name": "HTMLModel",
            "placeholder": "​",
            "_view_module": "@jupyter-widgets/controls",
            "_model_module_version": "1.5.0",
            "value": " 436M/436M [00:10&lt;00:00, 39.8MB/s]",
            "_view_count": null,
            "_view_module_version": "1.5.0",
            "description_tooltip": null,
            "_model_module": "@jupyter-widgets/controls",
            "layout": "IPY_MODEL_049ab366a4644e6e81d6fc2cfa1b128f"
          }
        },
        "6c042a4b816d46e8bfb6528c428b5902": {
          "model_module": "@jupyter-widgets/controls",
          "model_name": "ProgressStyleModel",
          "state": {
            "_view_name": "StyleView",
            "_model_name": "ProgressStyleModel",
            "description_width": "initial",
            "_view_module": "@jupyter-widgets/base",
            "_model_module_version": "1.5.0",
            "_view_count": null,
            "_view_module_version": "1.2.0",
            "bar_color": null,
            "_model_module": "@jupyter-widgets/controls"
          }
        },
        "3fdb2ae3d94540de92790e639bffd17b": {
          "model_module": "@jupyter-widgets/base",
          "model_name": "LayoutModel",
          "state": {
            "_view_name": "LayoutView",
            "grid_template_rows": null,
            "right": null,
            "justify_content": null,
            "_view_module": "@jupyter-widgets/base",
            "overflow": null,
            "_model_module_version": "1.2.0",
            "_view_count": null,
            "flex_flow": null,
            "width": null,
            "min_width": null,
            "border": null,
            "align_items": null,
            "bottom": null,
            "_model_module": "@jupyter-widgets/base",
            "top": null,
            "grid_column": null,
            "overflow_y": null,
            "overflow_x": null,
            "grid_auto_flow": null,
            "grid_area": null,
            "grid_template_columns": null,
            "flex": null,
            "_model_name": "LayoutModel",
            "justify_items": null,
            "grid_row": null,
            "max_height": null,
            "align_content": null,
            "visibility": null,
            "align_self": null,
            "height": null,
            "min_height": null,
            "padding": null,
            "grid_auto_rows": null,
            "grid_gap": null,
            "max_width": null,
            "order": null,
            "_view_module_version": "1.2.0",
            "grid_template_areas": null,
            "object_position": null,
            "object_fit": null,
            "grid_auto_columns": null,
            "margin": null,
            "display": null,
            "left": null
          }
        },
        "e350fbad4ca7400bbdd26ed31e1be4b2": {
          "model_module": "@jupyter-widgets/controls",
          "model_name": "DescriptionStyleModel",
          "state": {
            "_view_name": "StyleView",
            "_model_name": "DescriptionStyleModel",
            "description_width": "",
            "_view_module": "@jupyter-widgets/base",
            "_model_module_version": "1.5.0",
            "_view_count": null,
            "_view_module_version": "1.2.0",
            "_model_module": "@jupyter-widgets/controls"
          }
        },
        "049ab366a4644e6e81d6fc2cfa1b128f": {
          "model_module": "@jupyter-widgets/base",
          "model_name": "LayoutModel",
          "state": {
            "_view_name": "LayoutView",
            "grid_template_rows": null,
            "right": null,
            "justify_content": null,
            "_view_module": "@jupyter-widgets/base",
            "overflow": null,
            "_model_module_version": "1.2.0",
            "_view_count": null,
            "flex_flow": null,
            "width": null,
            "min_width": null,
            "border": null,
            "align_items": null,
            "bottom": null,
            "_model_module": "@jupyter-widgets/base",
            "top": null,
            "grid_column": null,
            "overflow_y": null,
            "overflow_x": null,
            "grid_auto_flow": null,
            "grid_area": null,
            "grid_template_columns": null,
            "flex": null,
            "_model_name": "LayoutModel",
            "justify_items": null,
            "grid_row": null,
            "max_height": null,
            "align_content": null,
            "visibility": null,
            "align_self": null,
            "height": null,
            "min_height": null,
            "padding": null,
            "grid_auto_rows": null,
            "grid_gap": null,
            "max_width": null,
            "order": null,
            "_view_module_version": "1.2.0",
            "grid_template_areas": null,
            "object_position": null,
            "object_fit": null,
            "grid_auto_columns": null,
            "margin": null,
            "display": null,
            "left": null
          }
        }
      }
    }
  },
  "cells": [
    {
      "cell_type": "markdown",
      "metadata": {
        "id": "view-in-github",
        "colab_type": "text"
      },
      "source": [
        "<a href=\"https://colab.research.google.com/github/neera-mital/KaggleNLPDisasterTweetsClassification/blob/main/kaggle_nlp_101.ipynb\" target=\"_parent\"><img src=\"https://colab.research.google.com/assets/colab-badge.svg\" alt=\"Open In Colab\"/></a>"
      ]
    },
    {
      "cell_type": "code",
      "metadata": {
        "id": "3qMXuyAK_v5F",
        "colab": {
          "base_uri": "https://localhost:8080/"
        },
        "outputId": "dad183b8-e182-4df0-9437-75417f97898f"
      },
      "source": [
        "import numpy as np # linear algebra\r\n",
        "import pandas as pd # data processing, CSV file I/O (e.g. pd.read_csv)\r\n",
        "import torch\r\n",
        "from torch import nn, optim\r\n",
        "import torch.nn.functional as F\r\n",
        "from torch.utils.data import TensorDataset, DataLoader, RandomSampler, SequentialSampler, Dataset\r\n",
        "\r\n",
        "#https://github.com/huggingface/transformers/issues/8879 for issue details on using Version 3\r\n",
        "!pip install transformers==3\r\n",
        "from transformers import BertModel, BertTokenizer, AdamW, get_linear_schedule_with_warmup\r\n",
        "\r\n",
        "import seaborn as sns\r\n",
        "from pylab import rcParams\r\n",
        "import matplotlib.pyplot as plt\r\n",
        "from matplotlib import rc\r\n",
        "from sklearn.model_selection import train_test_split\r\n",
        "from sklearn.metrics import confusion_matrix, classification_report\r\n",
        "from collections import defaultdict\r\n",
        "from textwrap import wrap\r\n",
        "\r\n",
        "%matplotlib inline\r\n",
        "%config InlineBackend.figure_format='retina'\r\n",
        "sns.set(style='whitegrid', palette='muted', font_scale=1.2)\r\n",
        "HAPPY_COLORS_PALETTE = [\"#01BEFE\", \"#FFDD00\", \"#FF7D00\", \"#FF006D\", \"#ADFF02\", \"#8F00FF\"]\r\n",
        "sns.set_palette(sns.color_palette(HAPPY_COLORS_PALETTE))\r\n",
        "rcParams['figure.figsize'] = 12, 8\r\n",
        "RANDOM_SEED = 42\r\n",
        "np.random.seed(RANDOM_SEED)\r\n",
        "torch.manual_seed(RANDOM_SEED)\r\n",
        "device = torch.device(\"cuda:0\" if torch.cuda.is_available() else \"cpu\")\r\n",
        "#device = \"cpu\""
      ],
      "execution_count": 1,
      "outputs": [
        {
          "output_type": "stream",
          "text": [
            "Requirement already satisfied: transformers==3 in /usr/local/lib/python3.6/dist-packages (3.0.0)\n",
            "Requirement already satisfied: tokenizers==0.8.0-rc4 in /usr/local/lib/python3.6/dist-packages (from transformers==3) (0.8.0rc4)\n",
            "Requirement already satisfied: requests in /usr/local/lib/python3.6/dist-packages (from transformers==3) (2.23.0)\n",
            "Requirement already satisfied: tqdm>=4.27 in /usr/local/lib/python3.6/dist-packages (from transformers==3) (4.41.1)\n",
            "Requirement already satisfied: filelock in /usr/local/lib/python3.6/dist-packages (from transformers==3) (3.0.12)\n",
            "Requirement already satisfied: numpy in /usr/local/lib/python3.6/dist-packages (from transformers==3) (1.19.4)\n",
            "Requirement already satisfied: sentencepiece in /usr/local/lib/python3.6/dist-packages (from transformers==3) (0.1.94)\n",
            "Requirement already satisfied: packaging in /usr/local/lib/python3.6/dist-packages (from transformers==3) (20.8)\n",
            "Requirement already satisfied: sacremoses in /usr/local/lib/python3.6/dist-packages (from transformers==3) (0.0.43)\n",
            "Requirement already satisfied: dataclasses; python_version < \"3.7\" in /usr/local/lib/python3.6/dist-packages (from transformers==3) (0.8)\n",
            "Requirement already satisfied: regex!=2019.12.17 in /usr/local/lib/python3.6/dist-packages (from transformers==3) (2019.12.20)\n",
            "Requirement already satisfied: chardet<4,>=3.0.2 in /usr/local/lib/python3.6/dist-packages (from requests->transformers==3) (3.0.4)\n",
            "Requirement already satisfied: certifi>=2017.4.17 in /usr/local/lib/python3.6/dist-packages (from requests->transformers==3) (2020.12.5)\n",
            "Requirement already satisfied: urllib3!=1.25.0,!=1.25.1,<1.26,>=1.21.1 in /usr/local/lib/python3.6/dist-packages (from requests->transformers==3) (1.24.3)\n",
            "Requirement already satisfied: idna<3,>=2.5 in /usr/local/lib/python3.6/dist-packages (from requests->transformers==3) (2.10)\n",
            "Requirement already satisfied: pyparsing>=2.0.2 in /usr/local/lib/python3.6/dist-packages (from packaging->transformers==3) (2.4.7)\n",
            "Requirement already satisfied: click in /usr/local/lib/python3.6/dist-packages (from sacremoses->transformers==3) (7.1.2)\n",
            "Requirement already satisfied: joblib in /usr/local/lib/python3.6/dist-packages (from sacremoses->transformers==3) (1.0.0)\n",
            "Requirement already satisfied: six in /usr/local/lib/python3.6/dist-packages (from sacremoses->transformers==3) (1.15.0)\n"
          ],
          "name": "stdout"
        }
      ]
    },
    {
      "cell_type": "code",
      "metadata": {
        "id": "0X_opGF1ATIE",
        "colab": {
          "base_uri": "https://localhost:8080/"
        },
        "outputId": "65e6b3ec-a304-4fc4-e0e8-263202254bcf"
      },
      "source": [
        "!pip install -q kaggle\r\n",
        "from google.colab import files\r\n",
        "#files.upload()\r\n",
        "\r\n",
        "#!mkdir ~/.kaggle\r\n",
        "#!cp -n kaggle.json ~/.kaggle/\r\n",
        "\r\n",
        "###Make directory named kaggle and copy kaggle.json file there.\r\n",
        "!chmod 600 ~/.kaggle/kaggle.json\r\n",
        "\r\n",
        "###Change the permissions of the file.\r\n",
        "###! kaggle datasets list\r\n",
        "!kaggle competitions download -c nlp-getting-started\r\n",
        "!ls\r\n",
        "\r\n",
        "###import os\r\n",
        "###for dirname, _, filenames in os.walk('./kaggle/'):\r\n",
        "###    for filename in filenames:\r\n",
        "###        print(os.path.join(dirname, filename))\r\n"
      ],
      "execution_count": 2,
      "outputs": [
        {
          "output_type": "stream",
          "text": [
            "Warning: Looks like you're using an outdated API Version, please consider updating (server 1.5.10 / client 1.5.4)\n",
            "sample_submission.csv: Skipping, found more recently modified local copy (use --force to force download)\n",
            "test.csv: Skipping, found more recently modified local copy (use --force to force download)\n",
            "train.csv: Skipping, found more recently modified local copy (use --force to force download)\n",
            "'kaggle (1).json'   sample_data\t\t    test.csv\n",
            " kaggle.json\t    sample_submission.csv   train.csv\n"
          ],
          "name": "stdout"
        }
      ]
    },
    {
      "cell_type": "code",
      "metadata": {
        "id": "0eyS3cYD_2_4",
        "colab": {
          "base_uri": "https://localhost:8080/",
          "height": 195
        },
        "outputId": "69358402-b788-4975-a678-ebf998f68c43"
      },
      "source": [
        "df_train = pd.read_csv(\"train.csv\")\r\n",
        "df_test = pd.read_csv(\"test.csv\")\r\n",
        "df_train.loc[df_train.keyword != \"\"].sample(5)\r\n",
        "\r\n"
      ],
      "execution_count": 3,
      "outputs": [
        {
          "output_type": "execute_result",
          "data": {
            "text/html": [
              "<div>\n",
              "<style scoped>\n",
              "    .dataframe tbody tr th:only-of-type {\n",
              "        vertical-align: middle;\n",
              "    }\n",
              "\n",
              "    .dataframe tbody tr th {\n",
              "        vertical-align: top;\n",
              "    }\n",
              "\n",
              "    .dataframe thead th {\n",
              "        text-align: right;\n",
              "    }\n",
              "</style>\n",
              "<table border=\"1\" class=\"dataframe\">\n",
              "  <thead>\n",
              "    <tr style=\"text-align: right;\">\n",
              "      <th></th>\n",
              "      <th>id</th>\n",
              "      <th>keyword</th>\n",
              "      <th>location</th>\n",
              "      <th>text</th>\n",
              "      <th>target</th>\n",
              "    </tr>\n",
              "  </thead>\n",
              "  <tbody>\n",
              "    <tr>\n",
              "      <th>2644</th>\n",
              "      <td>3796</td>\n",
              "      <td>destruction</td>\n",
              "      <td>NaN</td>\n",
              "      <td>So you have a new weapon that can cause un-ima...</td>\n",
              "      <td>1</td>\n",
              "    </tr>\n",
              "    <tr>\n",
              "      <th>2227</th>\n",
              "      <td>3185</td>\n",
              "      <td>deluge</td>\n",
              "      <td>NaN</td>\n",
              "      <td>The f$&amp;amp;@ing things I do for #GISHWHES Just...</td>\n",
              "      <td>0</td>\n",
              "    </tr>\n",
              "    <tr>\n",
              "      <th>5448</th>\n",
              "      <td>7769</td>\n",
              "      <td>police</td>\n",
              "      <td>UK</td>\n",
              "      <td>DT @georgegalloway: RT @Galloway4Mayor: ÛÏThe...</td>\n",
              "      <td>1</td>\n",
              "    </tr>\n",
              "    <tr>\n",
              "      <th>132</th>\n",
              "      <td>191</td>\n",
              "      <td>aftershock</td>\n",
              "      <td>NaN</td>\n",
              "      <td>Aftershock back to school kick off was great. ...</td>\n",
              "      <td>0</td>\n",
              "    </tr>\n",
              "    <tr>\n",
              "      <th>6845</th>\n",
              "      <td>9810</td>\n",
              "      <td>trauma</td>\n",
              "      <td>Montgomery County, MD</td>\n",
              "      <td>in response to trauma Children of Addicts deve...</td>\n",
              "      <td>0</td>\n",
              "    </tr>\n",
              "  </tbody>\n",
              "</table>\n",
              "</div>"
            ],
            "text/plain": [
              "        id  ... target\n",
              "2644  3796  ...      1\n",
              "2227  3185  ...      0\n",
              "5448  7769  ...      1\n",
              "132    191  ...      0\n",
              "6845  9810  ...      0\n",
              "\n",
              "[5 rows x 5 columns]"
            ]
          },
          "metadata": {
            "tags": []
          },
          "execution_count": 3
        }
      ]
    },
    {
      "cell_type": "code",
      "metadata": {
        "id": "Qa479-NW_3K9",
        "colab": {
          "base_uri": "https://localhost:8080/",
          "height": 762
        },
        "outputId": "ac357ff6-7c98-4cb4-a7e1-a9b16dbe9c74"
      },
      "source": [
        "df_train.info()\r\n",
        "\r\n",
        "df=df_train.drop(columns=['keyword', 'location'])\r\n",
        "print(df.tail(10))\r\n",
        "print(df.shape)\r\n",
        "\r\n",
        "sns.countplot(df.target)"
      ],
      "execution_count": 4,
      "outputs": [
        {
          "output_type": "stream",
          "text": [
            "<class 'pandas.core.frame.DataFrame'>\n",
            "RangeIndex: 7613 entries, 0 to 7612\n",
            "Data columns (total 5 columns):\n",
            " #   Column    Non-Null Count  Dtype \n",
            "---  ------    --------------  ----- \n",
            " 0   id        7613 non-null   int64 \n",
            " 1   keyword   7552 non-null   object\n",
            " 2   location  5080 non-null   object\n",
            " 3   text      7613 non-null   object\n",
            " 4   target    7613 non-null   int64 \n",
            "dtypes: int64(2), object(3)\n",
            "memory usage: 297.5+ KB\n",
            "         id                                               text  target\n",
            "7603  10862  Officials say a quarantine is in place at an A...       1\n",
            "7604  10863  #WorldNews Fallen powerlines on G:link tram: U...       1\n",
            "7605  10864  on the flip side I'm at Walmart and there is a...       1\n",
            "7606  10866  Suicide bomber kills 15 in Saudi security site...       1\n",
            "7607  10867  #stormchase Violent Record Breaking EF-5 El Re...       1\n",
            "7608  10869  Two giant cranes holding a bridge collapse int...       1\n",
            "7609  10870  @aria_ahrary @TheTawniest The out of control w...       1\n",
            "7610  10871  M1.94 [01:04 UTC]?5km S of Volcano Hawaii. htt...       1\n",
            "7611  10872  Police investigating after an e-bike collided ...       1\n",
            "7612  10873  The Latest: More Homes Razed by Northern Calif...       1\n",
            "(7613, 3)\n"
          ],
          "name": "stdout"
        },
        {
          "output_type": "stream",
          "text": [
            "/usr/local/lib/python3.6/dist-packages/seaborn/_decorators.py:43: FutureWarning: Pass the following variable as a keyword arg: x. From version 0.12, the only valid positional argument will be `data`, and passing other arguments without an explicit keyword will result in an error or misinterpretation.\n",
            "  FutureWarning\n"
          ],
          "name": "stderr"
        },
        {
          "output_type": "execute_result",
          "data": {
            "text/plain": [
              "<matplotlib.axes._subplots.AxesSubplot at 0x7feb94afecc0>"
            ]
          },
          "metadata": {
            "tags": []
          },
          "execution_count": 4
        },
        {
          "output_type": "display_data",
          "data": {
            "image/png": "[encoded data removed]",
            "text/plain": [
              "<Figure size 432x288 with 1 Axes>"
            ]
          },
          "metadata": {
            "tags": [],
            "image/png": {
              "width": 410,
              "height": 272
            },
            "needs_background": "light"
          }
        }
      ]
    },
    {
      "cell_type": "code",
      "metadata": {
        "id": "AWH8xkoG_3az",
        "colab": {
          "base_uri": "https://localhost:8080/"
        },
        "outputId": "56e3ac92-203d-401d-e9e3-645090b0a56c"
      },
      "source": [
        "!python --version\r\n",
        "print(f\" Torch Version - {torch.__version__}\")\r\n",
        "#print(f\" Transformers Version - { Transformers.__version__}\")\r\n",
        "device"
      ],
      "execution_count": 5,
      "outputs": [
        {
          "output_type": "stream",
          "text": [
            "Python 3.6.9\n",
            " Torch Version - 1.7.0+cu101\n"
          ],
          "name": "stdout"
        },
        {
          "output_type": "execute_result",
          "data": {
            "text/plain": [
              "device(type='cuda', index=0)"
            ]
          },
          "metadata": {
            "tags": []
          },
          "execution_count": 5
        }
      ]
    },
    {
      "cell_type": "code",
      "metadata": {
        "id": "iJqk5A3XAGrQ",
        "colab": {
          "base_uri": "https://localhost:8080/",
          "height": 116,
          "referenced_widgets": [
            "0c725e2de87d4e7f955845ff8332709e",
            "7712d65666d34e0bbf395ba11d9c3dc1",
            "54961c5ffd164ca9a3a0e86c94dee5c2",
            "2666c9ff26574ca9af286e340a7ab59e",
            "76c6430fb3fd460ca03bc2590e1233f1",
            "94825f38c0bd48afbb11bf18e61983df",
            "0bd82bfbba204521baca2d90de389b79",
            "986f47ba39ca4c49b93d1963652cb807"
          ]
        },
        "outputId": "af91818d-6c5d-4215-9034-437fa9f2f81f"
      },
      "source": [
        "###from pytorch_pretrained_bert import BertTokenizer, BertModel, BertForMaskedLM, BertForSequenceClassification\r\n",
        "PRE_TRAINED_MODEL_NAME = 'bert-base-cased'\r\n",
        "#PRE_TRAINED_MODEL_NAME = 'bert-large-cased'\r\n",
        "# Load pre-trained model tokenizer (vocabulary)\r\n",
        "tokenizer = BertTokenizer.from_pretrained(PRE_TRAINED_MODEL_NAME)\r\n",
        "\r\n",
        "text_ip1 = \"Cat ate the mouse.\"\r\n",
        "text_ip2 = \"[CLS] I will buy mouse and keyboard for the computer.[SEP]\"\r\n",
        "\r\n",
        "# Print the sentence split into tokens.\r\n",
        "print('Tokenized: ', tokenizer.tokenize(text_ip1))\r\n",
        "\r\n",
        "# Print the sentence mapped to token ids.\r\n",
        "print('Token IDs: 1 ', tokenizer.convert_tokens_to_ids(tokenizer.tokenize(text_ip1)))\r\n",
        "print('Token IDs: 2 ', tokenizer.convert_tokens_to_ids(tokenizer.tokenize(text_ip2)))"
      ],
      "execution_count": 6,
      "outputs": [
        {
          "output_type": "display_data",
          "data": {
            "application/vnd.jupyter.widget-view+json": {
              "model_id": "0c725e2de87d4e7f955845ff8332709e",
              "version_minor": 0,
              "version_major": 2
            },
            "text/plain": [
              "HBox(children=(FloatProgress(value=0.0, description='Downloading', max=213450.0, style=ProgressStyle(descripti…"
            ]
          },
          "metadata": {
            "tags": []
          }
        },
        {
          "output_type": "stream",
          "text": [
            "\n",
            "Tokenized:  ['Cat', 'ate', 'the', 'mouse', '.']\n",
            "Token IDs: 1  [8572, 8756, 1103, 10322, 119]\n",
            "Token IDs: 2  [101, 146, 1209, 4417, 10322, 1105, 9303, 1111, 1103, 2775, 119, 102]\n"
          ],
          "name": "stdout"
        }
      ]
    },
    {
      "cell_type": "code",
      "metadata": {
        "id": "dHJwdr90AGzg",
        "colab": {
          "base_uri": "https://localhost:8080/"
        },
        "outputId": "eb5f9f0e-87ad-4125-8867-5bcd092d1086"
      },
      "source": [
        "# Get the lists of sentences and their labels.\r\n",
        "sentences = df.text.values\r\n",
        "labels = df.target.values\r\n",
        "#print(sentences)\r\n",
        "#print(labels)\r\n",
        "\r\n",
        "max_len = 0\r\n",
        "# For every sentence...\r\n",
        "for sent in sentences:\r\n",
        "    # Tokenize the text and add `[CLS]` and `[SEP]` tokens.\r\n",
        "    input_ids = tokenizer.encode(sent, add_special_tokens=True)\r\n",
        "    # Update the maximum sentence length.\r\n",
        "    max_len = max(max_len, len(input_ids))\r\n",
        "\r\n",
        "print('Max sentence length: ', max_len)"
      ],
      "execution_count": 7,
      "outputs": [
        {
          "output_type": "stream",
          "text": [
            "Max sentence length:  106\n"
          ],
          "name": "stdout"
        }
      ]
    },
    {
      "cell_type": "code",
      "metadata": {
        "id": "WiJnjRPXcXdm"
      },
      "source": [
        "#for label in labels:\r\n",
        "#  print(label)"
      ],
      "execution_count": 8,
      "outputs": []
    },
    {
      "cell_type": "code",
      "metadata": {
        "id": "wzm6WLykAHCv"
      },
      "source": [
        "MAX_LEN = 120 #Max sentence length \r\n",
        "\r\n",
        "class GPReviewDataset(Dataset):\r\n",
        "  def __init__(self, text, target, tokenizer, max_len):\r\n",
        "    self.text = text\r\n",
        "    self.target = target\r\n",
        "    self.tokenizer = tokenizer\r\n",
        "    self.max_len = max_len\r\n",
        "  \r\n",
        "  def __len__(self):\r\n",
        "    return len(self.text)\r\n",
        "\r\n",
        "  def __getitem__(self, item):\r\n",
        "    text = str(self.text[item])\r\n",
        "    target = self.target[item]\r\n",
        "    encoding = self.tokenizer.encode_plus(\r\n",
        "      text,\r\n",
        "      add_special_tokens=True,\r\n",
        "      max_length=self.max_len,\r\n",
        "      return_token_type_ids=False,\r\n",
        "      pad_to_max_length=True,\r\n",
        "      return_attention_mask=True,\r\n",
        "      truncation=True,\r\n",
        "      return_tensors='pt',\r\n",
        "    )\r\n",
        "    return {\r\n",
        "      'text': text,\r\n",
        "      'input_ids': encoding['input_ids'].flatten(),\r\n",
        "      'attention_mask': encoding['attention_mask'].flatten(),\r\n",
        "      'target': torch.tensor(target, dtype=torch.long)\r\n",
        "    }\r\n",
        "\r\n"
      ],
      "execution_count": 8,
      "outputs": []
    },
    {
      "cell_type": "code",
      "metadata": {
        "id": "hmt1U2XLXSdx",
        "colab": {
          "base_uri": "https://localhost:8080/"
        },
        "outputId": "6dcb6f69-1773-4f35-dce7-addbbabaa9a6"
      },
      "source": [
        "df_train, df_val = train_test_split(\r\n",
        "  df,\r\n",
        "  test_size=0.2,\r\n",
        "  random_state=RANDOM_SEED\r\n",
        ")\r\n",
        "\r\n",
        "\r\n",
        "'''df_test = train_test_split(\r\n",
        "  df_test,\r\n",
        "  test_size=1.0,\r\n",
        "  random_state=RANDOM_SEED\r\n",
        ")'''\r\n",
        "\r\n",
        "df_train.shape, df_val.shape, df_test.shape\r\n",
        "#test_df.shape"
      ],
      "execution_count": 9,
      "outputs": [
        {
          "output_type": "execute_result",
          "data": {
            "text/plain": [
              "((6090, 3), (1523, 3), (3263, 4))"
            ]
          },
          "metadata": {
            "tags": []
          },
          "execution_count": 9
        }
      ]
    },
    {
      "cell_type": "code",
      "metadata": {
        "id": "-nobJSXgMfAF"
      },
      "source": [
        "def create_data_loader(df, tokenizer, max_len, batch_size):\r\n",
        "  ds = GPReviewDataset(\r\n",
        "    text=df.text.to_numpy(),\r\n",
        "    target=df.target.to_numpy(),\r\n",
        "    tokenizer=tokenizer,\r\n",
        "    max_len=max_len\r\n",
        "  )\r\n",
        "  return DataLoader(\r\n",
        "    ds,\r\n",
        "    batch_size=batch_size,\r\n",
        "    num_workers=4\r\n",
        "  )\r\n",
        "BATCH_SIZE = 16\r\n",
        "\r\n",
        "\r\n",
        "train_data_loader = create_data_loader(df_train, tokenizer, MAX_LEN, BATCH_SIZE)\r\n",
        "val_data_loader = create_data_loader(df_val, tokenizer, MAX_LEN, BATCH_SIZE)\r\n",
        "#test_data_loader = create_data_loader(df_test, tokenizer, MAX_LEN, BATCH_SIZE)"
      ],
      "execution_count": 10,
      "outputs": []
    },
    {
      "cell_type": "code",
      "metadata": {
        "id": "nRPhrQviZrFv",
        "colab": {
          "base_uri": "https://localhost:8080/"
        },
        "outputId": "953c8fd6-fbdc-4012-b33d-3aac91cb665b"
      },
      "source": [
        "data = next(iter(train_data_loader))\r\n",
        "print(data.keys())\r\n",
        "\r\n",
        "print(data['input_ids'].shape)\r\n",
        "print(data['attention_mask'].shape)\r\n",
        "print(data['target'].shape)\r\n"
      ],
      "execution_count": 11,
      "outputs": [
        {
          "output_type": "stream",
          "text": [
            "dict_keys(['text', 'input_ids', 'attention_mask', 'target'])\n",
            "torch.Size([16, 120])\n",
            "torch.Size([16, 120])\n",
            "torch.Size([16])\n"
          ],
          "name": "stdout"
        }
      ]
    },
    {
      "cell_type": "code",
      "metadata": {
        "id": "gYCPaAqsMfZ1",
        "colab": {
          "base_uri": "https://localhost:8080/",
          "height": 114,
          "referenced_widgets": [
            "2581934f3da042d6a37fb7ebe5260f09",
            "4a0ea441f3bc4cfa8fde0fb28471fb1b",
            "8205079713d2446ea17580ea310da57a",
            "492576178cfc4d2ab6dbd60465e1b08d",
            "9a25ab29129f49619d73bb24230dac1b",
            "f344b733c34849ddb01a2cfac5a92388",
            "1bf20fbdfbab48e3ac3343ac49d7c210",
            "3355972b65eb448fb507c47c2145d45b",
            "917857220a754c6182e9625641919ad8",
            "f2520627d84e4ea89eef69818fd46a7d",
            "9b863351a78c452080fb86c03c173ff3",
            "124f7d15df18441093c1efe6a5d26669",
            "6c042a4b816d46e8bfb6528c428b5902",
            "3fdb2ae3d94540de92790e639bffd17b",
            "e350fbad4ca7400bbdd26ed31e1be4b2",
            "049ab366a4644e6e81d6fc2cfa1b128f"
          ]
        },
        "outputId": "271ad882-a7a8-48cd-ddec-2ba3e905a5c0"
      },
      "source": [
        "class SentimentClassifier(nn.Module):\r\n",
        "  def __init__(self, n_classes):\r\n",
        "    super(SentimentClassifier, self).__init__()\r\n",
        "    self.bert = BertModel.from_pretrained(PRE_TRAINED_MODEL_NAME)\r\n",
        "    self.drop = nn.Dropout(p=0.3)\r\n",
        "    self.out = nn.Linear(self.bert.config.hidden_size, n_classes)\r\n",
        "    \r\n",
        "  def forward(self, input_ids, attention_mask):\r\n",
        "    _, pooled_output = self.bert(\r\n",
        "      input_ids=input_ids,\r\n",
        "      attention_mask=attention_mask\r\n",
        "    )\r\n",
        "    output = self.drop(pooled_output)\r\n",
        "    return self.out(output)\r\n",
        "\r\n",
        "#CLASSES\r\n",
        "CLASS_LEN=2\r\n",
        "model = SentimentClassifier(CLASS_LEN)\r\n",
        "model = model.to(device)"
      ],
      "execution_count": 12,
      "outputs": [
        {
          "output_type": "display_data",
          "data": {
            "application/vnd.jupyter.widget-view+json": {
              "model_id": "2581934f3da042d6a37fb7ebe5260f09",
              "version_minor": 0,
              "version_major": 2
            },
            "text/plain": [
              "HBox(children=(FloatProgress(value=0.0, description='Downloading', max=433.0, style=ProgressStyle(description_…"
            ]
          },
          "metadata": {
            "tags": []
          }
        },
        {
          "output_type": "stream",
          "text": [
            "\n"
          ],
          "name": "stdout"
        },
        {
          "output_type": "display_data",
          "data": {
            "application/vnd.jupyter.widget-view+json": {
              "model_id": "917857220a754c6182e9625641919ad8",
              "version_minor": 0,
              "version_major": 2
            },
            "text/plain": [
              "HBox(children=(FloatProgress(value=0.0, description='Downloading', max=435779157.0, style=ProgressStyle(descri…"
            ]
          },
          "metadata": {
            "tags": []
          }
        },
        {
          "output_type": "stream",
          "text": [
            "\n"
          ],
          "name": "stdout"
        }
      ]
    },
    {
      "cell_type": "code",
      "metadata": {
        "id": "PBdIabXBaob4",
        "colab": {
          "base_uri": "https://localhost:8080/"
        },
        "outputId": "646bff11-cb0c-4a38-a432-b3ed46bde43c"
      },
      "source": [
        "input_ids = data['input_ids'].to(device)\r\n",
        "attention_mask = data['attention_mask'].to(device)\r\n",
        "print(input_ids.shape) # batch size x seq length\r\n",
        "print(attention_mask.shape) # batch size x seq length\r\n",
        "\r\n",
        "#print(input_ids)\r\n",
        "\r\n",
        "print(tokenizer.convert_ids_to_tokens(data['input_ids'][0]))\r\n",
        "F.softmax(model(input_ids, attention_mask), dim=1)"
      ],
      "execution_count": 13,
      "outputs": [
        {
          "output_type": "stream",
          "text": [
            "torch.Size([16, 120])\n",
            "torch.Size([16, 120])\n",
            "['[CLS]', 'Courage', '##ous', 'and', 'honest', 'analysis', 'of', 'need', 'to', 'use', 'Atomic', 'Bomb', 'in', '1945', '.', '#', 'Hiroshima', '##70', 'Japanese', 'military', 'refused', 'surrender', '.', 'https', ':', '/', '/', 't', '.', 'co', '/', 'V', '##hm', '##ty', '##T', '##pt', '##GR', '[SEP]', '[PAD]', '[PAD]', '[PAD]', '[PAD]', '[PAD]', '[PAD]', '[PAD]', '[PAD]', '[PAD]', '[PAD]', '[PAD]', '[PAD]', '[PAD]', '[PAD]', '[PAD]', '[PAD]', '[PAD]', '[PAD]', '[PAD]', '[PAD]', '[PAD]', '[PAD]', '[PAD]', '[PAD]', '[PAD]', '[PAD]', '[PAD]', '[PAD]', '[PAD]', '[PAD]', '[PAD]', '[PAD]', '[PAD]', '[PAD]', '[PAD]', '[PAD]', '[PAD]', '[PAD]', '[PAD]', '[PAD]', '[PAD]', '[PAD]', '[PAD]', '[PAD]', '[PAD]', '[PAD]', '[PAD]', '[PAD]', '[PAD]', '[PAD]', '[PAD]', '[PAD]', '[PAD]', '[PAD]', '[PAD]', '[PAD]', '[PAD]', '[PAD]', '[PAD]', '[PAD]', '[PAD]', '[PAD]', '[PAD]', '[PAD]', '[PAD]', '[PAD]', '[PAD]', '[PAD]', '[PAD]', '[PAD]', '[PAD]', '[PAD]', '[PAD]', '[PAD]', '[PAD]', '[PAD]', '[PAD]', '[PAD]', '[PAD]', '[PAD]', '[PAD]', '[PAD]']\n"
          ],
          "name": "stdout"
        },
        {
          "output_type": "execute_result",
          "data": {
            "text/plain": [
              "tensor([[0.4301, 0.5699],\n",
              "        [0.7942, 0.2058],\n",
              "        [0.6668, 0.3332],\n",
              "        [0.8540, 0.1460],\n",
              "        [0.6259, 0.3741],\n",
              "        [0.4160, 0.5840],\n",
              "        [0.6768, 0.3232],\n",
              "        [0.6763, 0.3237],\n",
              "        [0.7364, 0.2636],\n",
              "        [0.8152, 0.1848],\n",
              "        [0.4247, 0.5753],\n",
              "        [0.6669, 0.3331],\n",
              "        [0.7584, 0.2416],\n",
              "        [0.6080, 0.3920],\n",
              "        [0.7038, 0.2962],\n",
              "        [0.8378, 0.1622]], device='cuda:0', grad_fn=<SoftmaxBackward>)"
            ]
          },
          "metadata": {
            "tags": []
          },
          "execution_count": 13
        }
      ]
    },
    {
      "cell_type": "code",
      "metadata": {
        "id": "r8zSN0xnaoz5"
      },
      "source": [
        "EPOCHS = 8\r\n",
        "optimizer = AdamW(model.parameters(), lr=2e-5, correct_bias=False)\r\n",
        "total_steps = len(train_data_loader) * EPOCHS\r\n",
        "scheduler = get_linear_schedule_with_warmup(\r\n",
        "  optimizer,\r\n",
        "  num_warmup_steps=0,\r\n",
        "  num_training_steps=total_steps\r\n",
        ")\r\n",
        "loss_fn = nn.CrossEntropyLoss().to(device)"
      ],
      "execution_count": 14,
      "outputs": []
    },
    {
      "cell_type": "code",
      "metadata": {
        "id": "pGaY322t6PzM"
      },
      "source": [
        "def train_epoch(\r\n",
        "  model,\r\n",
        "  data_loader,\r\n",
        "  loss_fn,\r\n",
        "  optimizer,\r\n",
        "  device,\r\n",
        "  scheduler,\r\n",
        "  n_examples\r\n",
        "):\r\n",
        "  model = model.train()\r\n",
        "  losses = []\r\n",
        "  correct_predictions = 0\r\n",
        "\r\n",
        "  for d in data_loader:\r\n",
        "    input_ids = d[\"input_ids\"].to(device)\r\n",
        "    attention_mask = d[\"attention_mask\"].to(device)\r\n",
        "    target = d[\"target\"].to(device)\r\n",
        "    outputs = model(\r\n",
        "      input_ids=input_ids,\r\n",
        "      attention_mask=attention_mask\r\n",
        "    )\r\n",
        "    _, preds = torch.max(outputs, dim=1)\r\n",
        "    loss = loss_fn(outputs, target)\r\n",
        "    correct_predictions += torch.sum(preds == target)\r\n",
        "    losses.append(loss.item())\r\n",
        "    loss.backward()\r\n",
        "    nn.utils.clip_grad_norm_(model.parameters(), max_norm=1.0)\r\n",
        "    optimizer.step()\r\n",
        "    scheduler.step()\r\n",
        "    optimizer.zero_grad()\r\n",
        "\r\n",
        "  return correct_predictions.double() / n_examples, np.mean(losses)\r\n",
        "\r\n",
        "\r\n",
        "def eval_model(model, data_loader, loss_fn, device, n_examples):\r\n",
        "  model = model.eval()\r\n",
        "  losses = []\r\n",
        "  correct_predictions = 0\r\n",
        "\r\n",
        "  with torch.no_grad():\r\n",
        "    for d in data_loader:\r\n",
        "      input_ids = d[\"input_ids\"].to(device)\r\n",
        "      attention_mask = d[\"attention_mask\"].to(device)\r\n",
        "      target = d[\"target\"].to(device)\r\n",
        "      outputs = model(\r\n",
        "        input_ids=input_ids,\r\n",
        "        attention_mask=attention_mask\r\n",
        "      )\r\n",
        "      _, preds = torch.max(outputs, dim=1)\r\n",
        "      loss = loss_fn(outputs, target)\r\n",
        "      correct_predictions += torch.sum(preds == target)\r\n",
        "      losses.append(loss.item())\r\n",
        "      \r\n",
        "  return correct_predictions.double() / n_examples, np.mean(losses)"
      ],
      "execution_count": 15,
      "outputs": []
    },
    {
      "cell_type": "code",
      "metadata": {
        "id": "-0-4BODT6QEQ",
        "colab": {
          "base_uri": "https://localhost:8080/"
        },
        "outputId": "8f9c99fd-b5ed-4892-aa1e-2683679d6af2"
      },
      "source": [
        "%%time\r\n",
        "\r\n",
        "history = defaultdict(list)\r\n",
        "best_accuracy = 0\r\n",
        "for epoch in range(EPOCHS):\r\n",
        "  print(f'Epoch {epoch + 1}/{EPOCHS}')\r\n",
        "  print('-' * 10)\r\n",
        "  train_acc, train_loss = train_epoch(\r\n",
        "    model,\r\n",
        "    train_data_loader,\r\n",
        "    loss_fn,\r\n",
        "    optimizer,\r\n",
        "    device,\r\n",
        "    scheduler,\r\n",
        "    len(df_train)\r\n",
        "  )\r\n",
        "  print(f'Train loss {train_loss} accuracy {train_acc}')\r\n",
        "  val_acc, val_loss = eval_model(\r\n",
        "    model,\r\n",
        "    val_data_loader,\r\n",
        "    loss_fn,\r\n",
        "    device,\r\n",
        "    len(df_val)\r\n",
        "  )\r\n",
        "  print(f'Val   loss {val_loss} accuracy {val_acc}')\r\n",
        "  print()\r\n",
        "  history['train_acc'].append(train_acc)\r\n",
        "  history['train_loss'].append(train_loss)\r\n",
        "  history['val_acc'].append(val_acc)\r\n",
        "  history['val_loss'].append(val_loss)\r\n",
        "  if val_acc > best_accuracy:\r\n",
        "    torch.save(model.state_dict(), 'best_model_state.bin')\r\n",
        "    best_accuracy = val_acc"
      ],
      "execution_count": 16,
      "outputs": [
        {
          "output_type": "stream",
          "text": [
            "Epoch 1/8\n",
            "----------\n",
            "Train loss 0.4906309457041147 accuracy 0.7842364532019704\n",
            "Val   loss 0.43758562207221985 accuracy 0.8279711096520026\n",
            "\n",
            "Epoch 2/8\n",
            "----------\n",
            "Train loss 0.31750096246756593 accuracy 0.8770114942528736\n",
            "Val   loss 0.4884044696809724 accuracy 0.8332239001969796\n",
            "\n",
            "Epoch 3/8\n",
            "----------\n",
            "Train loss 0.20576024560252903 accuracy 0.9328407224958949\n",
            "Val   loss 0.7327211721567437 accuracy 0.7984241628365069\n",
            "\n",
            "Epoch 4/8\n",
            "----------\n",
            "Train loss 0.13815767932078235 accuracy 0.9591133004926109\n",
            "Val   loss 0.8872670864996811 accuracy 0.804333552199606\n",
            "\n",
            "Epoch 5/8\n",
            "----------\n",
            "Train loss 0.10118249369378195 accuracy 0.9725779967159278\n",
            "Val   loss 1.0028569648081127 accuracy 0.7997373604727511\n",
            "\n",
            "Epoch 6/8\n",
            "----------\n",
            "Train loss 0.08114184251779585 accuracy 0.9773399014778326\n",
            "Val   loss 1.0881430188310333 accuracy 0.794484569927774\n",
            "\n",
            "Epoch 7/8\n",
            "----------\n",
            "Train loss 0.06287888578831168 accuracy 0.9804597701149426\n",
            "Val   loss 1.1195406328188255 accuracy 0.8030203545633617\n",
            "\n",
            "Epoch 8/8\n",
            "----------\n",
            "Train loss 0.054452284711195835 accuracy 0.9839080459770115\n",
            "Val   loss 1.2033908454856526 accuracy 0.8069599474720944\n",
            "\n",
            "CPU times: user 12min 30s, sys: 7min 27s, total: 19min 57s\n",
            "Wall time: 20min 9s\n"
          ],
          "name": "stdout"
        }
      ]
    },
    {
      "cell_type": "code",
      "metadata": {
        "id": "TAEz5luz6QOC",
        "colab": {
          "base_uri": "https://localhost:8080/",
          "height": 306
        },
        "outputId": "6ca8b483-5e90-4212-b84f-6be102feb938"
      },
      "source": [
        "plt.plot(history['train_acc'], label='train accuracy')\r\n",
        "plt.plot(history['val_acc'], label='validation accuracy')\r\n",
        "plt.title('Training history')\r\n",
        "plt.ylabel('Accuracy')\r\n",
        "plt.xlabel('Epoch')\r\n",
        "plt.legend()\r\n",
        "plt.ylim([0, 1]);"
      ],
      "execution_count": 18,
      "outputs": [
        {
          "output_type": "display_data",
          "data": {
            "image/png": "[encoded data removed]",
            "text/plain": [
              "<Figure size 432x288 with 1 Axes>"
            ]
          },
          "metadata": {
            "tags": [],
            "image/png": {
              "width": 397,
              "height": 289
            },
            "needs_background": "light"
          }
        }
      ]
    },
    {
      "cell_type": "code",
      "metadata": {
        "colab": {
          "base_uri": "https://localhost:8080/"
        },
        "id": "k2NfRWURRL4w",
        "outputId": "4aa2014f-23c6-4508-e199-92bc3d2ca498"
      },
      "source": [
        "df_test.info()"
      ],
      "execution_count": 19,
      "outputs": [
        {
          "output_type": "stream",
          "text": [
            "<class 'pandas.core.frame.DataFrame'>\n",
            "RangeIndex: 3263 entries, 0 to 3262\n",
            "Data columns (total 4 columns):\n",
            " #   Column    Non-Null Count  Dtype \n",
            "---  ------    --------------  ----- \n",
            " 0   id        3263 non-null   int64 \n",
            " 1   keyword   3237 non-null   object\n",
            " 2   location  2158 non-null   object\n",
            " 3   text      3263 non-null   object\n",
            "dtypes: int64(1), object(3)\n",
            "memory usage: 102.1+ KB\n"
          ],
          "name": "stdout"
        }
      ]
    },
    {
      "cell_type": "code",
      "metadata": {
        "id": "cD1cA4D9SA57"
      },
      "source": [
        "row_ids = []\r\n",
        "row_texts = []\r\n",
        "row_predictions = []\r\n",
        "\r\n",
        "for i, row in df_test.iterrows():\r\n",
        "    #print( f\" {i} {row['id']}  {row['text']}\" )\r\n",
        "    encoding_comment = tokenizer.encode_plus(\r\n",
        "      row['text'],\r\n",
        "      add_special_tokens=True,\r\n",
        "      max_length=MAX_LEN,\r\n",
        "      return_token_type_ids=False,\r\n",
        "      pad_to_max_length=True,\r\n",
        "      return_attention_mask=True,\r\n",
        "      truncation=True,\r\n",
        "      return_tensors='pt')\r\n",
        "     \r\n",
        "    input_ids = encoding_comment['input_ids'].to(device)\r\n",
        "    attention_mask = encoding_comment['attention_mask'].to(device)\r\n",
        "    output = model(input_ids, attention_mask)\r\n",
        "    _, prediction = torch.max(output, dim=1)\r\n",
        "    \r\n",
        "    row_ids.append(row['id'])\r\n",
        "    row_texts.append(row['text'])\r\n",
        "    row_predictions.append(prediction.data.tolist()[0])\r\n",
        "\r\n",
        "    #print(f\"Input text: {row['text']}\")\r\n",
        "    #print(f'Sentiment  : {prediction}')\r\n",
        "\r\n"
      ],
      "execution_count": 20,
      "outputs": []
    },
    {
      "cell_type": "code",
      "metadata": {
        "colab": {
          "base_uri": "https://localhost:8080/",
          "height": 50
        },
        "id": "83II48VBaN1O",
        "outputId": "1889f4c9-40db-4cb8-fb35-f1a0d79c5128"
      },
      "source": [
        "#row_texts\r\n",
        "print(len(row_texts))\r\n",
        "print(len(row_predictions))\r\n",
        "\r\n",
        "'''\r\n",
        "for i,t,p in zip(row_ids,row_texts,row_predictions):\r\n",
        "  print(f' {i} {t} -> {p}')\r\n",
        "\r\n",
        "'''\r\n",
        "\r\n",
        "d = {'id': row_ids, 'target': row_predictions}\r\n",
        "df_ans = pd.DataFrame(data=d)\r\n",
        "df_ans.to_csv('submisson_nm1_v2.csv',index=False)\r\n",
        "files.download('submisson_nm1_v2.csv')\r\n",
        "\r\n"
      ],
      "execution_count": 21,
      "outputs": [
        {
          "output_type": "stream",
          "text": [
            "3263\n",
            "3263\n"
          ],
          "name": "stdout"
        },
        {
          "output_type": "display_data",
          "data": {
            "application/javascript": [
              "\n",
              "    async function download(id, filename, size) {\n",
              "      if (!google.colab.kernel.accessAllowed) {\n",
              "        return;\n",
              "      }\n",
              "      const div = document.createElement('div');\n",
              "      const label = document.createElement('label');\n",
              "      label.textContent = `Downloading \"${filename}\": `;\n",
              "      div.appendChild(label);\n",
              "      const progress = document.createElement('progress');\n",
              "      progress.max = size;\n",
              "      div.appendChild(progress);\n",
              "      document.body.appendChild(div);\n",
              "\n",
              "      const buffers = [];\n",
              "      let downloaded = 0;\n",
              "\n",
              "      const channel = await google.colab.kernel.comms.open(id);\n",
              "      // Send a message to notify the kernel that we're ready.\n",
              "      channel.send({})\n",
              "\n",
              "      for await (const message of channel.messages) {\n",
              "        // Send a message to notify the kernel that we're ready.\n",
              "        channel.send({})\n",
              "        if (message.buffers) {\n",
              "          for (const buffer of message.buffers) {\n",
              "            buffers.push(buffer);\n",
              "            downloaded += buffer.byteLength;\n",
              "            progress.value = downloaded;\n",
              "          }\n",
              "        }\n",
              "      }\n",
              "      const blob = new Blob(buffers, {type: 'application/binary'});\n",
              "      const a = document.createElement('a');\n",
              "      a.href = window.URL.createObjectURL(blob);\n",
              "      a.download = filename;\n",
              "      div.appendChild(a);\n",
              "      a.click();\n",
              "      div.remove();\n",
              "    }\n",
              "  "
            ],
            "text/plain": [
              "<IPython.core.display.Javascript object>"
            ]
          },
          "metadata": {
            "tags": []
          }
        },
        {
          "output_type": "display_data",
          "data": {
            "application/javascript": [
              "download(\"download_cbe9e79f-f399-4698-a7fd-0ccadf75a68d\", \"submisson_nm1_v2.csv\", 22746)"
            ],
            "text/plain": [
              "<IPython.core.display.Javascript object>"
            ]
          },
          "metadata": {
            "tags": []
          }
        }
      ]
    },
    {
      "cell_type": "code",
      "metadata": {
        "id": "QW9zcooXSBVD"
      },
      "source": [
        ""
      ],
      "execution_count": 21,
      "outputs": []
    }
  ]
}